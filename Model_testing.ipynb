{
 "cells": [
  {
   "cell_type": "code",
   "execution_count": 12,
   "id": "9fd38960-f8be-4684-8a75-e2b2e0d080f0",
   "metadata": {},
   "outputs": [],
   "source": [
    "from tensorflow.keras.models import load_model\n",
    "import pandas as pd\n",
    "from sklearn.preprocessing import LabelEncoder\n",
    "from tensorflow.keras.utils import to_categorical\n",
    "from tensorflow.keras.preprocessing.sequence import pad_sequences\n",
    "import numpy as np"
   ]
  },
  {
   "cell_type": "code",
   "execution_count": 30,
   "id": "707a646d-cb0d-49f7-b165-e00378f1e6c3",
   "metadata": {},
   "outputs": [],
   "source": [
    "model = load_model('Mul_CNN_model.keras')"
   ]
  },
  {
   "cell_type": "code",
   "execution_count": 6,
   "id": "0ae28260-b6e5-44bc-a89e-cb9255d000d3",
   "metadata": {},
   "outputs": [],
   "source": [
    "test_df = pd.read_csv('D:/mlbc-research/CNN-HSP-Classification/data/testing/processed/sequences_with_labels_test.csv')"
   ]
  },
  {
   "cell_type": "code",
   "execution_count": 24,
   "id": "cd18df7e-d953-466f-a1a9-05018331eb39",
   "metadata": {},
   "outputs": [
    {
     "name": "stdout",
     "output_type": "stream",
     "text": [
      "Padded Sequences:\n",
      " [[11 16  7 ...  0  0  0]\n",
      " [11 15  9 ...  0  0  0]\n",
      " [11 14  8 ...  0  0  0]\n",
      " ...\n",
      " [ 1  3  3 ...  0  0  0]\n",
      " [18 15 11 ...  0  0  0]\n",
      " [17 18  1 ...  0  0  0]]\n",
      "One-Hot Encoded Shape: (680, 3321, 21)\n"
     ]
    }
   ],
   "source": [
    "#One hot encoding\n",
    "amino_acids = \"ACDEFGHIKLMNPQRSTVWY\"\n",
    "aa_to_int = {aa: idx + 1 for idx, aa in enumerate(amino_acids)}\n",
    "num_amino_acids = len(amino_acids) + 1\n",
    "\n",
    "sequences = test_df['Sequence']\n",
    "\n",
    "int_sequences = [[aa_to_int.get(aa, 0) for aa in seq] for seq in sequences]\n",
    "\n",
    "#Get Max Sequence Length\n",
    "max_sequence_length = 3321 #Might need to fix this later. 3321 is the max_length of the sequences in the train datasets.\n",
    "\n",
    "padded_sequences = pad_sequences(int_sequences, maxlen=max_sequence_length, padding='post')\n",
    "\n",
    "\n",
    "one_hot_encoded = np.zeros((len(padded_sequences), max_sequence_length, num_amino_acids), dtype=np.float32)\n",
    "for i, seq in enumerate(padded_sequences):\n",
    "    for j, aa_index in enumerate(seq):\n",
    "        if aa_index != 0:  # Ignore padding\n",
    "            one_hot_encoded[i, j, aa_index] = 1.0\n",
    "\n",
    "# Verify the result\n",
    "print(\"Padded Sequences:\\n\", padded_sequences)\n",
    "print(\"One-Hot Encoded Shape:\", one_hot_encoded.shape)\n"
   ]
  },
  {
   "cell_type": "code",
   "execution_count": 26,
   "id": "616d13ba-1b5b-4b8e-ac17-0f3476a593cd",
   "metadata": {},
   "outputs": [],
   "source": [
    "y_test_labels = test_df['Label']        \n",
    "\n",
    "label_encoder = LabelEncoder()\n",
    "y_test_encoded = label_encoder.fit_transform(y_test_labels)\n",
    "y_test_one_hot = to_categorical(y_test_encoded, num_classes=7)"
   ]
  },
  {
   "cell_type": "code",
   "execution_count": 32,
   "id": "1330cc98-009c-4284-b413-4ea51f4a3b5c",
   "metadata": {},
   "outputs": [
    {
     "name": "stdout",
     "output_type": "stream",
     "text": [
      "22/22 [==============================] - 9s 381ms/step - loss: 0.9479 - accuracy: 0.9368\n",
      "Test Loss: 0.9479\n",
      "Test Accuracy: 93.68%\n"
     ]
    }
   ],
   "source": [
    "loss, accuracy = model.evaluate(one_hot_encoded, y_test_one_hot)\n",
    "print(f\"Test Loss: {loss:.4f}\")\n",
    "print(f\"Test Accuracy: {accuracy * 100:.2f}%\")\n"
   ]
  },
  {
   "cell_type": "code",
   "execution_count": null,
   "id": "9adebe1e-4862-4ca6-92b9-1f469a6f15ef",
   "metadata": {},
   "outputs": [],
   "source": [
    "predictions = model.predict(one_hot_encoded)\n",
    "predicted_classes = np.argmax(predictions, axis=1)\n",
    "predicted_labels = label_encoder.inverse_transform(predicted_classes)\n",
    "\n",
    "# Add predictions to the DataFrame\n",
    "test_df['Predicted_Label'] = predicted_labels\n",
    "\n",
    "# Save the results to a new CSV file\n",
    "test_df.to_csv('test_results.csv', index=False)\n",
    "print(\"Predictions saved to 'test_results.csv'\")\n"
   ]
  }
 ],
 "metadata": {
  "kernelspec": {
   "display_name": "Python 3 (ipykernel)",
   "language": "python",
   "name": "python3"
  },
  "language_info": {
   "codemirror_mode": {
    "name": "ipython",
    "version": 3
   },
   "file_extension": ".py",
   "mimetype": "text/x-python",
   "name": "python",
   "nbconvert_exporter": "python",
   "pygments_lexer": "ipython3",
   "version": "3.11.5"
  }
 },
 "nbformat": 4,
 "nbformat_minor": 5
}
