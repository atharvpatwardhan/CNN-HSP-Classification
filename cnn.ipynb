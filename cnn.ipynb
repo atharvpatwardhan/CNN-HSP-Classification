{
 "cells": [
  {
   "cell_type": "markdown",
   "id": "2155fd57-b285-40c3-81eb-7c119bdacf18",
   "metadata": {},
   "source": [
    "### Importing Libraries and data"
   ]
  },
  {
   "cell_type": "code",
   "execution_count": 3,
   "id": "e88f9e5e-6020-4568-9d6e-d0885daa13ec",
   "metadata": {},
   "outputs": [
    {
     "name": "stdout",
     "output_type": "stream",
     "text": [
      "Num GPUs Available:  0\n"
     ]
    }
   ],
   "source": [
    "import tensorflow as tf\n",
    "from tensorflow.keras.layers import Conv1D, GlobalMaxPooling1D, Dense, Dropout, BatchNormalization, Input, Concatenate\n",
    "from tensorflow.keras.models import Model\n",
    "from tensorflow.keras.utils import to_categorical\n",
    "import numpy as np\n",
    "from tensorflow.keras.preprocessing.sequence import pad_sequences\n",
    "import pandas as pd\n",
    "from sklearn.model_selection import train_test_split\n",
    "from tensorflow.keras.utils import to_categorical\n",
    "from sklearn.preprocessing import LabelEncoder\n",
    "\n",
    "print(\"Num GPUs Available: \", len(tf.config.list_physical_devices('GPU')))\n"
   ]
  },
  {
   "cell_type": "code",
   "execution_count": 4,
   "id": "0a465c13",
   "metadata": {},
   "outputs": [
    {
     "name": "stdout",
     "output_type": "stream",
     "text": [
      "['/device:CPU:0']\n"
     ]
    }
   ],
   "source": [
    "from tensorflow.python.client import device_lib\n",
    "\n",
    "def get_available_devices():\n",
    "    local_device_protos = device_lib.list_local_devices()\n",
    "    return [x.name for x in local_device_protos]\n",
    "\n",
    "print(get_available_devices())"
   ]
  },
  {
   "cell_type": "code",
   "execution_count": 5,
   "id": "c067c56d-5b39-4ad4-9fe0-6134ed52d032",
   "metadata": {},
   "outputs": [
    {
     "data": {
      "text/html": [
       "<div>\n",
       "<style scoped>\n",
       "    .dataframe tbody tr th:only-of-type {\n",
       "        vertical-align: middle;\n",
       "    }\n",
       "\n",
       "    .dataframe tbody tr th {\n",
       "        vertical-align: top;\n",
       "    }\n",
       "\n",
       "    .dataframe thead th {\n",
       "        text-align: right;\n",
       "    }\n",
       "</style>\n",
       "<table border=\"1\" class=\"dataframe\">\n",
       "  <thead>\n",
       "    <tr style=\"text-align: right;\">\n",
       "      <th></th>\n",
       "      <th>Sequence</th>\n",
       "      <th>Label</th>\n",
       "    </tr>\n",
       "  </thead>\n",
       "  <tbody>\n",
       "    <tr>\n",
       "      <th>0</th>\n",
       "      <td>MMINYWNPIEEIDTVRRQLDHLFEDAIDTGKSSNYPSWAPAVELWD...</td>\n",
       "      <td>HSP20</td>\n",
       "    </tr>\n",
       "    <tr>\n",
       "      <th>1</th>\n",
       "      <td>MMSIVLRDPFRSFERMYPLGWEPFQELESWRREMDRMFGRLMPISK...</td>\n",
       "      <td>HSP20</td>\n",
       "    </tr>\n",
       "    <tr>\n",
       "      <th>2</th>\n",
       "      <td>MLSLLNKNRSFFDDFFEDFNVLNPVTTSNLMRTDIKETQNGYSLSV...</td>\n",
       "      <td>HSP20</td>\n",
       "    </tr>\n",
       "    <tr>\n",
       "      <th>3</th>\n",
       "      <td>MALMKWEPLREIDDMFDRYVMSMGWPSRRQELITAGDWSPRVDISE...</td>\n",
       "      <td>HSP20</td>\n",
       "    </tr>\n",
       "    <tr>\n",
       "      <th>4</th>\n",
       "      <td>MANEVSRPVVKSVRQVEPLENLIETVWPGVFSPFITRQATQPQIAH...</td>\n",
       "      <td>HSP20</td>\n",
       "    </tr>\n",
       "  </tbody>\n",
       "</table>\n",
       "</div>"
      ],
      "text/plain": [
       "                                            Sequence  Label\n",
       "0  MMINYWNPIEEIDTVRRQLDHLFEDAIDTGKSSNYPSWAPAVELWD...  HSP20\n",
       "1  MMSIVLRDPFRSFERMYPLGWEPFQELESWRREMDRMFGRLMPISK...  HSP20\n",
       "2  MLSLLNKNRSFFDDFFEDFNVLNPVTTSNLMRTDIKETQNGYSLSV...  HSP20\n",
       "3  MALMKWEPLREIDDMFDRYVMSMGWPSRRQELITAGDWSPRVDISE...  HSP20\n",
       "4  MANEVSRPVVKSVRQVEPLENLIETVWPGVFSPFITRQATQPQIAH...  HSP20"
      ]
     },
     "execution_count": 5,
     "metadata": {},
     "output_type": "execute_result"
    }
   ],
   "source": [
    "df = pd.read_csv('D:/mlbc-research/CNN-HSP-Classification/data/processed/sequences_with_labels.csv')\n",
    "df.head()"
   ]
  },
  {
   "cell_type": "code",
   "execution_count": 6,
   "id": "fabca5ea-6115-4474-b4d4-4a325d18cfeb",
   "metadata": {
    "scrolled": true
   },
   "outputs": [
    {
     "data": {
      "text/plain": [
       "array(['HSP20', 'HSP40', 'HSP60', 'HSP70', 'HSP90', 'HSP100', 'NON_HSP'],\n",
       "      dtype=object)"
      ]
     },
     "execution_count": 6,
     "metadata": {},
     "output_type": "execute_result"
    }
   ],
   "source": [
    "df['Label'].unique()"
   ]
  },
  {
   "cell_type": "markdown",
   "id": "c9822b5b-970a-4e40-b06b-8cf2529bb2aa",
   "metadata": {},
   "source": [
    "### One-Hot Encoding the sequences"
   ]
  },
  {
   "cell_type": "code",
   "execution_count": 7,
   "id": "87707a09-3956-4a49-9046-601ee9392d60",
   "metadata": {},
   "outputs": [],
   "source": [
    "amino_acids = \"ACDEFGHIKLMNPQRSTVWY\"\n",
    "aa_to_int = {aa: idx + 1 for idx, aa in enumerate(amino_acids)}\n",
    "num_amino_acids = len(amino_acids) + 1\n",
    "\n",
    "sequences = df['Sequence']\n",
    "\n",
    "int_sequences = [[aa_to_int.get(aa, 0) for aa in seq] for seq in sequences]"
   ]
  },
  {
   "cell_type": "code",
   "execution_count": 8,
   "id": "65df5940-575d-4970-8c21-6168d974952d",
   "metadata": {},
   "outputs": [
    {
     "data": {
      "text/plain": [
       "3321"
      ]
     },
     "execution_count": 8,
     "metadata": {},
     "output_type": "execute_result"
    }
   ],
   "source": [
    "#Get Max Sequence Length\n",
    "max_sequence_length = df['Sequence'].apply(len).max()\n",
    "max_sequence_length"
   ]
  },
  {
   "cell_type": "code",
   "execution_count": 9,
   "id": "c88365ab-9121-4fae-8a6a-01372e9e8362",
   "metadata": {},
   "outputs": [
    {
     "name": "stdout",
     "output_type": "stream",
     "text": [
      "Padded Sequences:\n",
      " [[11 11  8 ...  0  0  0]\n",
      " [11 11 16 ...  0  0  0]\n",
      " [11 10 16 ...  0  0  0]\n",
      " ...\n",
      " [11  4 16 ...  0  0  0]\n",
      " [11 18 20 ...  0  0  0]\n",
      " [11 16 16 ...  0  0  0]]\n",
      "One-Hot Encoded Shape: (12146, 3321, 21)\n"
     ]
    }
   ],
   "source": [
    "padded_sequences = pad_sequences(int_sequences, maxlen=max_sequence_length, padding='post')\n",
    "\n",
    "\n",
    "one_hot_encoded = np.zeros((len(padded_sequences), max_sequence_length, num_amino_acids), dtype=np.float32)\n",
    "for i, seq in enumerate(padded_sequences):\n",
    "    for j, aa_index in enumerate(seq):\n",
    "        if aa_index != 0:  # Ignore padding\n",
    "            one_hot_encoded[i, j, aa_index] = 1.0\n",
    "\n",
    "# Verify the result\n",
    "print(\"Padded Sequences:\\n\", padded_sequences)\n",
    "print(\"One-Hot Encoded Shape:\", one_hot_encoded.shape)\n"
   ]
  },
  {
   "cell_type": "code",
   "execution_count": 10,
   "id": "c3fd78cf-ee49-4992-8a1a-d6be9fd19a6c",
   "metadata": {},
   "outputs": [
    {
     "name": "stdout",
     "output_type": "stream",
     "text": [
      "Number of classes: 7\n"
     ]
    }
   ],
   "source": [
    "y = df['Label']\n",
    "print(f\"Number of classes: {len(set(y))}\")\n",
    "\n",
    "label_encoder = LabelEncoder()\n",
    "y_encoded = label_encoder.fit_transform(y)\n",
    "\n",
    "y_one_hot_encoded = to_categorical(y_encoded, num_classes=7)\n",
    "\n",
    "X_train, X_test, y_train, y_test = train_test_split(one_hot_encoded, y_one_hot_encoded, test_size=0.2, random_state=42)\n"
   ]
  },
  {
   "cell_type": "code",
   "execution_count": 11,
   "id": "fcd25e1f",
   "metadata": {},
   "outputs": [],
   "source": [
    "y_binary = np.where(df['Label'] == 'Non-HSP', 0, 1)  # 0 for Non-HSP, 1 for HSP\n",
    "y_categories = y_one_hot_encoded  # Existing one-hot encoded labels for HSP categories\n",
    "\n",
    "X_train, X_test, y_train_binary, y_test_binary, y_train_categories, y_test_categories = train_test_split(\n",
    "    one_hot_encoded, y_binary, y_categories, test_size=0.2, random_state=42\n",
    ")\n"
   ]
  },
  {
   "cell_type": "code",
   "execution_count": 15,
   "id": "c45596c3-ecb7-4f25-b62d-23154514ada5",
   "metadata": {},
   "outputs": [
    {
     "name": "stdout",
     "output_type": "stream",
     "text": [
      "Epoch 1/15\n",
      "\u001b[1m304/304\u001b[0m \u001b[32m━━━━━━━━━━━━━━━━━━━━\u001b[0m\u001b[37m\u001b[0m \u001b[1m236s\u001b[0m 759ms/step - binary_output_accuracy: 0.9799 - binary_output_loss: 0.1114 - loss: 1.8529 - multiclass_output_accuracy: 0.7283 - multiclass_output_loss: 1.7416 - val_binary_output_accuracy: 1.0000 - val_binary_output_loss: 0.0263 - val_loss: 1.0686 - val_multiclass_output_accuracy: 0.8193 - val_multiclass_output_loss: 1.0423\n",
      "Epoch 2/15\n",
      "\u001b[1m304/304\u001b[0m \u001b[32m━━━━━━━━━━━━━━━━━━━━\u001b[0m\u001b[37m\u001b[0m \u001b[1m228s\u001b[0m 751ms/step - binary_output_accuracy: 1.0000 - binary_output_loss: 0.0012 - loss: 0.7795 - multiclass_output_accuracy: 0.8009 - multiclass_output_loss: 0.7784 - val_binary_output_accuracy: 1.0000 - val_binary_output_loss: 0.0029 - val_loss: 0.7031 - val_multiclass_output_accuracy: 0.8267 - val_multiclass_output_loss: 0.7001\n",
      "Epoch 3/15\n",
      "\u001b[1m304/304\u001b[0m \u001b[32m━━━━━━━━━━━━━━━━━━━━\u001b[0m\u001b[37m\u001b[0m \u001b[1m229s\u001b[0m 754ms/step - binary_output_accuracy: 1.0000 - binary_output_loss: 8.8588e-04 - loss: 0.5689 - multiclass_output_accuracy: 0.8667 - multiclass_output_loss: 0.5680 - val_binary_output_accuracy: 1.0000 - val_binary_output_loss: 5.7636e-04 - val_loss: 0.3671 - val_multiclass_output_accuracy: 0.9214 - val_multiclass_output_loss: 0.3665\n",
      "Epoch 4/15\n",
      "\u001b[1m304/304\u001b[0m \u001b[32m━━━━━━━━━━━━━━━━━━━━\u001b[0m\u001b[37m\u001b[0m \u001b[1m230s\u001b[0m 756ms/step - binary_output_accuracy: 1.0000 - binary_output_loss: 4.8548e-04 - loss: 0.4279 - multiclass_output_accuracy: 0.9041 - multiclass_output_loss: 0.4274 - val_binary_output_accuracy: 1.0000 - val_binary_output_loss: 1.9035e-04 - val_loss: 0.3246 - val_multiclass_output_accuracy: 0.9420 - val_multiclass_output_loss: 0.3244\n",
      "Epoch 5/15\n",
      "\u001b[1m304/304\u001b[0m \u001b[32m━━━━━━━━━━━━━━━━━━━━\u001b[0m\u001b[37m\u001b[0m \u001b[1m230s\u001b[0m 757ms/step - binary_output_accuracy: 1.0000 - binary_output_loss: 2.4995e-04 - loss: 0.3509 - multiclass_output_accuracy: 0.9172 - multiclass_output_loss: 0.3507 - val_binary_output_accuracy: 1.0000 - val_binary_output_loss: 4.6905e-05 - val_loss: 0.2802 - val_multiclass_output_accuracy: 0.9416 - val_multiclass_output_loss: 0.2800\n",
      "Epoch 6/15\n",
      "\u001b[1m304/304\u001b[0m \u001b[32m━━━━━━━━━━━━━━━━━━━━\u001b[0m\u001b[37m\u001b[0m \u001b[1m230s\u001b[0m 757ms/step - binary_output_accuracy: 1.0000 - binary_output_loss: 1.2686e-04 - loss: 0.3173 - multiclass_output_accuracy: 0.9253 - multiclass_output_loss: 0.3172 - val_binary_output_accuracy: 1.0000 - val_binary_output_loss: 7.1531e-05 - val_loss: 0.2473 - val_multiclass_output_accuracy: 0.9527 - val_multiclass_output_loss: 0.2471\n",
      "Epoch 7/15\n",
      "\u001b[1m304/304\u001b[0m \u001b[32m━━━━━━━━━━━━━━━━━━━━\u001b[0m\u001b[37m\u001b[0m \u001b[1m229s\u001b[0m 752ms/step - binary_output_accuracy: 1.0000 - binary_output_loss: 1.6022e-04 - loss: 0.2623 - multiclass_output_accuracy: 0.9341 - multiclass_output_loss: 0.2621 - val_binary_output_accuracy: 1.0000 - val_binary_output_loss: 6.7977e-05 - val_loss: 0.2482 - val_multiclass_output_accuracy: 0.9494 - val_multiclass_output_loss: 0.2480\n",
      "Epoch 8/15\n",
      "\u001b[1m304/304\u001b[0m \u001b[32m━━━━━━━━━━━━━━━━━━━━\u001b[0m\u001b[37m\u001b[0m \u001b[1m231s\u001b[0m 758ms/step - binary_output_accuracy: 1.0000 - binary_output_loss: 1.1240e-04 - loss: 0.2007 - multiclass_output_accuracy: 0.9500 - multiclass_output_loss: 0.2006 - val_binary_output_accuracy: 1.0000 - val_binary_output_loss: 2.4774e-05 - val_loss: 0.2599 - val_multiclass_output_accuracy: 0.9519 - val_multiclass_output_loss: 0.2597\n",
      "Epoch 9/15\n",
      "\u001b[1m304/304\u001b[0m \u001b[32m━━━━━━━━━━━━━━━━━━━━\u001b[0m\u001b[37m\u001b[0m \u001b[1m230s\u001b[0m 756ms/step - binary_output_accuracy: 1.0000 - binary_output_loss: 8.2808e-05 - loss: 0.1872 - multiclass_output_accuracy: 0.9578 - multiclass_output_loss: 0.1871 - val_binary_output_accuracy: 1.0000 - val_binary_output_loss: 2.9133e-05 - val_loss: 0.2554 - val_multiclass_output_accuracy: 0.9551 - val_multiclass_output_loss: 0.2553\n",
      "Epoch 10/15\n",
      "\u001b[1m304/304\u001b[0m \u001b[32m━━━━━━━━━━━━━━━━━━━━\u001b[0m\u001b[37m\u001b[0m \u001b[1m230s\u001b[0m 757ms/step - binary_output_accuracy: 0.9999 - binary_output_loss: 3.1094e-04 - loss: 0.1699 - multiclass_output_accuracy: 0.9596 - multiclass_output_loss: 0.1696 - val_binary_output_accuracy: 1.0000 - val_binary_output_loss: 1.1818e-05 - val_loss: 0.2580 - val_multiclass_output_accuracy: 0.9556 - val_multiclass_output_loss: 0.2578\n",
      "Epoch 11/15\n",
      "\u001b[1m304/304\u001b[0m \u001b[32m━━━━━━━━━━━━━━━━━━━━\u001b[0m\u001b[37m\u001b[0m \u001b[1m231s\u001b[0m 759ms/step - binary_output_accuracy: 1.0000 - binary_output_loss: 4.2939e-05 - loss: 0.1391 - multiclass_output_accuracy: 0.9717 - multiclass_output_loss: 0.1390 - val_binary_output_accuracy: 1.0000 - val_binary_output_loss: 1.0423e-05 - val_loss: 0.2662 - val_multiclass_output_accuracy: 0.9568 - val_multiclass_output_loss: 0.2660\n",
      "Epoch 12/15\n",
      "\u001b[1m304/304\u001b[0m \u001b[32m━━━━━━━━━━━━━━━━━━━━\u001b[0m\u001b[37m\u001b[0m \u001b[1m339s\u001b[0m 1s/step - binary_output_accuracy: 1.0000 - binary_output_loss: 6.2791e-05 - loss: 0.1185 - multiclass_output_accuracy: 0.9745 - multiclass_output_loss: 0.1185 - val_binary_output_accuracy: 1.0000 - val_binary_output_loss: 4.7446e-06 - val_loss: 0.2573 - val_multiclass_output_accuracy: 0.9580 - val_multiclass_output_loss: 0.2571\n",
      "Epoch 13/15\n",
      "\u001b[1m304/304\u001b[0m \u001b[32m━━━━━━━━━━━━━━━━━━━━\u001b[0m\u001b[37m\u001b[0m \u001b[1m409s\u001b[0m 1s/step - binary_output_accuracy: 1.0000 - binary_output_loss: 1.7201e-05 - loss: 0.1397 - multiclass_output_accuracy: 0.9744 - multiclass_output_loss: 0.1397 - val_binary_output_accuracy: 1.0000 - val_binary_output_loss: 1.1699e-05 - val_loss: 0.2566 - val_multiclass_output_accuracy: 0.9568 - val_multiclass_output_loss: 0.2564\n",
      "Epoch 14/15\n",
      "\u001b[1m304/304\u001b[0m \u001b[32m━━━━━━━━━━━━━━━━━━━━\u001b[0m\u001b[37m\u001b[0m \u001b[1m273s\u001b[0m 898ms/step - binary_output_accuracy: 1.0000 - binary_output_loss: 1.5660e-05 - loss: 0.0917 - multiclass_output_accuracy: 0.9782 - multiclass_output_loss: 0.0917 - val_binary_output_accuracy: 1.0000 - val_binary_output_loss: 1.5094e-05 - val_loss: 0.2669 - val_multiclass_output_accuracy: 0.9572 - val_multiclass_output_loss: 0.2667\n",
      "Epoch 15/15\n",
      "\u001b[1m304/304\u001b[0m \u001b[32m━━━━━━━━━━━━━━━━━━━━\u001b[0m\u001b[37m\u001b[0m \u001b[1m503s\u001b[0m 2s/step - binary_output_accuracy: 1.0000 - binary_output_loss: 3.9394e-05 - loss: 0.0981 - multiclass_output_accuracy: 0.9769 - multiclass_output_loss: 0.0980 - val_binary_output_accuracy: 1.0000 - val_binary_output_loss: 9.5362e-06 - val_loss: 0.2821 - val_multiclass_output_accuracy: 0.9564 - val_multiclass_output_loss: 0.2819\n"
     ]
    }
   ],
   "source": [
    "input_shape = (max_sequence_length, num_amino_acids)\n",
    "\n",
    "input_layer = Input(shape=input_shape)\n",
    "\n",
    "conv1 = Conv1D(64, kernel_size=256, activation='relu')(input_layer)\n",
    "bn1 = BatchNormalization()(conv1)\n",
    "pool1 = GlobalMaxPooling1D()(bn1)\n",
    "drop1 = Dropout(0.5)(pool1)\n",
    "\n",
    "conv2 = Conv1D(32, kernel_size=256, activation='relu')(input_layer)\n",
    "bn2 = BatchNormalization()(conv2)\n",
    "pool2 = GlobalMaxPooling1D()(bn2)\n",
    "drop2 = Dropout(0.5)(pool2)\n",
    "\n",
    "conv3 = Conv1D(16, kernel_size=256, activation='relu')(input_layer)\n",
    "bn3 = BatchNormalization()(conv3)\n",
    "pool3 = GlobalMaxPooling1D()(bn3)\n",
    "drop3 = Dropout(0.5)(pool3)\n",
    "\n",
    "concatenated = Concatenate()([drop1, drop2, drop3])\n",
    "\n",
    "dense1 = Dense(128, activation='relu')(concatenated)\n",
    "output_multiclass = Dense(7, activation='softmax', name='multiclass_output')(dense1)  # HSP types\n",
    "output_binary = Dense(1, activation='sigmoid', name='binary_output')(dense1)\n",
    "\n",
    "model = Model(inputs=input_layer, outputs=[output_multiclass, output_binary])\n",
    "\n",
    "model.compile(optimizer='adam',\n",
    "              loss={'multiclass_output': 'categorical_crossentropy', 'binary_output': 'binary_crossentropy'},\n",
    "              metrics={'multiclass_output': 'accuracy', 'binary_output': 'accuracy'})\n",
    "\n",
    "history = model.fit(X_train, \n",
    "                    {'multiclass_output': y_train_categories, 'binary_output': y_train_binary},\n",
    "                    validation_data=(X_test, {'multiclass_output': y_test_categories, 'binary_output': y_test_binary}),\n",
    "                    epochs=15, \n",
    "                    batch_size=32)\n",
    "\n"
   ]
  },
  {
   "cell_type": "code",
   "execution_count": 17,
   "id": "1b491e2a-235b-4c97-b1b6-72ece7e8b51e",
   "metadata": {},
   "outputs": [],
   "source": [
    "model.save('Mul_CNN_model_multioutput_new.keras')"
   ]
  },
  {
   "cell_type": "code",
   "execution_count": null,
   "id": "2dd921fa-b4e1-4c83-a0c9-0382b47414bd",
   "metadata": {},
   "outputs": [],
   "source": []
  }
 ],
 "metadata": {
  "kernelspec": {
   "display_name": "mlbcenv",
   "language": "python",
   "name": "python3"
  },
  "language_info": {
   "codemirror_mode": {
    "name": "ipython",
    "version": 3
   },
   "file_extension": ".py",
   "mimetype": "text/x-python",
   "name": "python",
   "nbconvert_exporter": "python",
   "pygments_lexer": "ipython3",
   "version": "3.11.11"
  }
 },
 "nbformat": 4,
 "nbformat_minor": 5
}
