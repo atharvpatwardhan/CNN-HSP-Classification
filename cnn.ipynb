{
 "cells": [
  {
   "cell_type": "code",
   "execution_count": 53,
   "id": "e88f9e5e-6020-4568-9d6e-d0885daa13ec",
   "metadata": {},
   "outputs": [],
   "source": [
    "import tensorflow as tf\n",
    "from tensorflow.keras.layers import Conv1D, GlobalMaxPooling1D, Dense, Dropout, BatchNormalization, Input, Concatenate\n",
    "from tensorflow.keras.models import Model\n",
    "from tensorflow.keras.utils import to_categorical\n",
    "import numpy as np\n",
    "from tensorflow.keras.preprocessing.sequence import pad_sequences\n",
    "import pandas as pd\n",
    "from sklearn.model_selection import train_test_split\n",
    "from tensorflow.keras.utils import to_categorical\n",
    "from sklearn.preprocessing import LabelEncoder\n"
   ]
  },
  {
   "cell_type": "code",
   "execution_count": 5,
   "id": "c067c56d-5b39-4ad4-9fe0-6134ed52d032",
   "metadata": {},
   "outputs": [
    {
     "data": {
      "text/html": [
       "<div>\n",
       "<style scoped>\n",
       "    .dataframe tbody tr th:only-of-type {\n",
       "        vertical-align: middle;\n",
       "    }\n",
       "\n",
       "    .dataframe tbody tr th {\n",
       "        vertical-align: top;\n",
       "    }\n",
       "\n",
       "    .dataframe thead th {\n",
       "        text-align: right;\n",
       "    }\n",
       "</style>\n",
       "<table border=\"1\" class=\"dataframe\">\n",
       "  <thead>\n",
       "    <tr style=\"text-align: right;\">\n",
       "      <th></th>\n",
       "      <th>Sequence</th>\n",
       "      <th>Label</th>\n",
       "    </tr>\n",
       "  </thead>\n",
       "  <tbody>\n",
       "    <tr>\n",
       "      <th>0</th>\n",
       "      <td>MMINYWNPIEEIDTVRRQLDHLFEDAIDTGKSSNYPSWAPAVELWD...</td>\n",
       "      <td>HSP20</td>\n",
       "    </tr>\n",
       "    <tr>\n",
       "      <th>1</th>\n",
       "      <td>MMSIVLRDPFRSFERMYPLGWEPFQELESWRREMDRMFGRLMPISK...</td>\n",
       "      <td>HSP20</td>\n",
       "    </tr>\n",
       "    <tr>\n",
       "      <th>2</th>\n",
       "      <td>MLSLLNKNRSFFDDFFEDFNVLNPVTTSNLMRTDIKETQNGYSLSV...</td>\n",
       "      <td>HSP20</td>\n",
       "    </tr>\n",
       "    <tr>\n",
       "      <th>3</th>\n",
       "      <td>MALMKWEPLREIDDMFDRYVMSMGWPSRRQELITAGDWSPRVDISE...</td>\n",
       "      <td>HSP20</td>\n",
       "    </tr>\n",
       "    <tr>\n",
       "      <th>4</th>\n",
       "      <td>MANEVSRPVVKSVRQVEPLENLIETVWPGVFSPFITRQATQPQIAH...</td>\n",
       "      <td>HSP20</td>\n",
       "    </tr>\n",
       "  </tbody>\n",
       "</table>\n",
       "</div>"
      ],
      "text/plain": [
       "                                            Sequence  Label\n",
       "0  MMINYWNPIEEIDTVRRQLDHLFEDAIDTGKSSNYPSWAPAVELWD...  HSP20\n",
       "1  MMSIVLRDPFRSFERMYPLGWEPFQELESWRREMDRMFGRLMPISK...  HSP20\n",
       "2  MLSLLNKNRSFFDDFFEDFNVLNPVTTSNLMRTDIKETQNGYSLSV...  HSP20\n",
       "3  MALMKWEPLREIDDMFDRYVMSMGWPSRRQELITAGDWSPRVDISE...  HSP20\n",
       "4  MANEVSRPVVKSVRQVEPLENLIETVWPGVFSPFITRQATQPQIAH...  HSP20"
      ]
     },
     "execution_count": 5,
     "metadata": {},
     "output_type": "execute_result"
    }
   ],
   "source": [
    "df = pd.read_csv('D:/mlbc-research/CNN-HSP-Classification/data/processed/sequences_with_labels.csv')\n",
    "df.head()"
   ]
  },
  {
   "cell_type": "code",
   "execution_count": 7,
   "id": "fabca5ea-6115-4474-b4d4-4a325d18cfeb",
   "metadata": {},
   "outputs": [
    {
     "data": {
      "text/plain": [
       "array(['HSP20', 'HSP40', 'HSP60', 'HSP70', 'HSP90', 'HSP100', 'NON_HSP'],\n",
       "      dtype=object)"
      ]
     },
     "execution_count": 7,
     "metadata": {},
     "output_type": "execute_result"
    }
   ],
   "source": [
    "df['Label'].unique()"
   ]
  },
  {
   "cell_type": "code",
   "execution_count": 39,
   "id": "87707a09-3956-4a49-9046-601ee9392d60",
   "metadata": {},
   "outputs": [],
   "source": [
    "# Preprocessing and One Hot Encoding\n",
    "amino_acids = \"ACDEFGHIKLMNPQRSTVWY\"\n",
    "aa_to_int = {aa: idx + 1 for idx, aa in enumerate(amino_acids)}\n",
    "num_amino_acids = len(amino_acids) + 1\n",
    "\n",
    "sequences = df['Sequence']\n",
    "\n",
    "int_sequences = [[aa_to_int.get(aa, 0) for aa in seq] for seq in sequences]"
   ]
  },
  {
   "cell_type": "code",
   "execution_count": 31,
   "id": "65df5940-575d-4970-8c21-6168d974952d",
   "metadata": {},
   "outputs": [
    {
     "data": {
      "text/plain": [
       "3321"
      ]
     },
     "execution_count": 31,
     "metadata": {},
     "output_type": "execute_result"
    }
   ],
   "source": [
    "#Get Max Sequence Length\n",
    "max_sequence_length = df['Sequence'].apply(len).max()\n",
    "max_sequence_length"
   ]
  },
  {
   "cell_type": "code",
   "execution_count": 33,
   "id": "c88365ab-9121-4fae-8a6a-01372e9e8362",
   "metadata": {},
   "outputs": [
    {
     "name": "stdout",
     "output_type": "stream",
     "text": [
      "Padded Sequences:\n",
      " [[11 11  8 ...  0  0  0]\n",
      " [11 11 16 ...  0  0  0]\n",
      " [11 10 16 ...  0  0  0]\n",
      " ...\n",
      " [11  4 16 ...  0  0  0]\n",
      " [11 18 20 ...  0  0  0]\n",
      " [11 16 16 ...  0  0  0]]\n",
      "One-Hot Encoded Shape: (12146, 3321, 21)\n"
     ]
    }
   ],
   "source": [
    "padded_sequences = pad_sequences(int_sequences, maxlen=max_sequence_length, padding='post')\n",
    "\n",
    "\n",
    "one_hot_encoded = np.zeros((len(padded_sequences), max_sequence_length, num_amino_acids), dtype=np.float32)\n",
    "for i, seq in enumerate(padded_sequences):\n",
    "    for j, aa_index in enumerate(seq):\n",
    "        if aa_index != 0:  # Ignore padding\n",
    "            one_hot_encoded[i, j, aa_index] = 1.0\n",
    "\n",
    "# Verify the result\n",
    "print(\"Padded Sequences:\\n\", padded_sequences)\n",
    "print(\"One-Hot Encoded Shape:\", one_hot_encoded.shape)\n"
   ]
  },
  {
   "cell_type": "code",
   "execution_count": 61,
   "id": "c3fd78cf-ee49-4992-8a1a-d6be9fd19a6c",
   "metadata": {},
   "outputs": [
    {
     "name": "stdout",
     "output_type": "stream",
     "text": [
      "Number of classes: 7\n"
     ]
    }
   ],
   "source": [
    "y = df['Label']\n",
    "print(f\"Number of classes: {len(set(y))}\")\n",
    "\n",
    "label_encoder = LabelEncoder()\n",
    "y_encoded = label_encoder.fit_transform(y)\n",
    "\n",
    "y_one_hot_encoded = to_categorical(y_encoded, num_classes=7)\n",
    "\n",
    "X_train, X_test, y_train, y_test = train_test_split(one_hot_encoded, y_one_hot_encoded, test_size=0.2, random_state=42)\n"
   ]
  },
  {
   "cell_type": "code",
   "execution_count": 65,
   "id": "c45596c3-ecb7-4f25-b62d-23154514ada5",
   "metadata": {},
   "outputs": [
    {
     "name": "stdout",
     "output_type": "stream",
     "text": [
      "Epoch 1/30\n",
      "WARNING:tensorflow:From D:\\Softwares\\Anaconda\\Lib\\site-packages\\keras\\src\\utils\\tf_utils.py:492: The name tf.ragged.RaggedTensorValue is deprecated. Please use tf.compat.v1.ragged.RaggedTensorValue instead.\n",
      "\n",
      "WARNING:tensorflow:From D:\\Softwares\\Anaconda\\Lib\\site-packages\\keras\\src\\engine\\base_layer_utils.py:384: The name tf.executing_eagerly_outside_functions is deprecated. Please use tf.compat.v1.executing_eagerly_outside_functions instead.\n",
      "\n",
      "304/304 [==============================] - 440s 1s/step - loss: 1.3216 - accuracy: 0.7589 - val_loss: 0.7902 - val_accuracy: 0.8193\n",
      "Epoch 2/30\n",
      "304/304 [==============================] - 439s 1s/step - loss: 0.7831 - accuracy: 0.8017 - val_loss: 0.7203 - val_accuracy: 0.8198\n",
      "Epoch 3/30\n",
      "304/304 [==============================] - 437s 1s/step - loss: 0.6423 - accuracy: 0.8280 - val_loss: 0.5267 - val_accuracy: 0.8440\n",
      "Epoch 4/30\n",
      "304/304 [==============================] - 439s 1s/step - loss: 0.4289 - accuracy: 0.8977 - val_loss: 0.3312 - val_accuracy: 0.9272\n",
      "Epoch 5/30\n",
      "304/304 [==============================] - 861s 3s/step - loss: 0.3275 - accuracy: 0.9234 - val_loss: 0.2675 - val_accuracy: 0.9461\n",
      "Epoch 6/30\n",
      "304/304 [==============================] - 436s 1s/step - loss: 0.2578 - accuracy: 0.9441 - val_loss: 0.2384 - val_accuracy: 0.9506\n",
      "Epoch 7/30\n",
      "304/304 [==============================] - 531s 2s/step - loss: 0.2051 - accuracy: 0.9555 - val_loss: 0.2459 - val_accuracy: 0.9535\n",
      "Epoch 8/30\n",
      "304/304 [==============================] - 437s 1s/step - loss: 0.2046 - accuracy: 0.9554 - val_loss: 0.2218 - val_accuracy: 0.9572\n",
      "Epoch 9/30\n",
      "304/304 [==============================] - 485s 2s/step - loss: 0.1656 - accuracy: 0.9617 - val_loss: 0.2363 - val_accuracy: 0.9572\n",
      "Epoch 10/30\n",
      "304/304 [==============================] - 437s 1s/step - loss: 0.1454 - accuracy: 0.9677 - val_loss: 0.2475 - val_accuracy: 0.9601\n",
      "Epoch 11/30\n",
      "304/304 [==============================] - 439s 1s/step - loss: 0.1416 - accuracy: 0.9693 - val_loss: 0.2441 - val_accuracy: 0.9621\n",
      "Epoch 12/30\n",
      "304/304 [==============================] - 550s 2s/step - loss: 0.1200 - accuracy: 0.9735 - val_loss: 0.2443 - val_accuracy: 0.9617\n",
      "Epoch 13/30\n",
      "304/304 [==============================] - 835s 3s/step - loss: 0.1139 - accuracy: 0.9772 - val_loss: 0.2252 - val_accuracy: 0.9630\n",
      "Epoch 14/30\n",
      "304/304 [==============================] - 449s 1s/step - loss: 0.0911 - accuracy: 0.9807 - val_loss: 0.2736 - val_accuracy: 0.9609\n",
      "Epoch 15/30\n",
      "304/304 [==============================] - 449s 1s/step - loss: 0.1046 - accuracy: 0.9790 - val_loss: 0.2386 - val_accuracy: 0.9613\n",
      "Epoch 16/30\n",
      "304/304 [==============================] - 458s 2s/step - loss: 0.0809 - accuracy: 0.9832 - val_loss: 0.2633 - val_accuracy: 0.9572\n",
      "Epoch 17/30\n",
      "304/304 [==============================] - 440s 1s/step - loss: 0.0745 - accuracy: 0.9831 - val_loss: 0.2562 - val_accuracy: 0.9613\n",
      "Epoch 18/30\n",
      "304/304 [==============================] - 489s 2s/step - loss: 0.0813 - accuracy: 0.9841 - val_loss: 0.2608 - val_accuracy: 0.9626\n",
      "Epoch 19/30\n",
      "304/304 [==============================] - 437s 1s/step - loss: 0.0762 - accuracy: 0.9844 - val_loss: 0.2210 - val_accuracy: 0.9663\n",
      "Epoch 20/30\n",
      "304/304 [==============================] - 443s 1s/step - loss: 0.0658 - accuracy: 0.9859 - val_loss: 0.2394 - val_accuracy: 0.9654\n",
      "Epoch 21/30\n",
      "304/304 [==============================] - 1064s 4s/step - loss: 0.0539 - accuracy: 0.9893 - val_loss: 0.2587 - val_accuracy: 0.9630\n",
      "Epoch 22/30\n",
      "304/304 [==============================] - 436s 1s/step - loss: 0.0592 - accuracy: 0.9883 - val_loss: 0.3166 - val_accuracy: 0.9617\n",
      "Epoch 23/30\n",
      "304/304 [==============================] - 435s 1s/step - loss: 0.0606 - accuracy: 0.9881 - val_loss: 0.2475 - val_accuracy: 0.9646\n",
      "Epoch 24/30\n",
      "304/304 [==============================] - 440s 1s/step - loss: 0.0492 - accuracy: 0.9903 - val_loss: 0.2802 - val_accuracy: 0.9634\n",
      "Epoch 25/30\n",
      "304/304 [==============================] - 439s 1s/step - loss: 0.0548 - accuracy: 0.9891 - val_loss: 0.3059 - val_accuracy: 0.9605\n",
      "Epoch 26/30\n",
      "304/304 [==============================] - 1978s 7s/step - loss: 0.0477 - accuracy: 0.9907 - val_loss: 0.2771 - val_accuracy: 0.9613\n",
      "Epoch 27/30\n",
      "304/304 [==============================] - 453s 1s/step - loss: 0.0605 - accuracy: 0.9873 - val_loss: 0.2740 - val_accuracy: 0.9634\n",
      "Epoch 28/30\n",
      "304/304 [==============================] - 440s 1s/step - loss: 0.0430 - accuracy: 0.9918 - val_loss: 0.2775 - val_accuracy: 0.9626\n",
      "Epoch 29/30\n",
      "304/304 [==============================] - 438s 1s/step - loss: 0.0420 - accuracy: 0.9919 - val_loss: 0.2624 - val_accuracy: 0.9646\n",
      "Epoch 30/30\n",
      "304/304 [==============================] - 445s 1s/step - loss: 0.0347 - accuracy: 0.9929 - val_loss: 0.2742 - val_accuracy: 0.9638\n"
     ]
    }
   ],
   "source": [
    "input_shape = (max_sequence_length, num_amino_acids)  # Define these appropriately\n",
    "\n",
    "# Input Layer\n",
    "input_layer = Input(shape=input_shape)\n",
    "\n",
    "# Convolutional Layers\n",
    "conv1 = Conv1D(64, kernel_size=256, activation='relu')(input_layer)\n",
    "bn1 = BatchNormalization()(conv1)\n",
    "pool1 = GlobalMaxPooling1D()(bn1)\n",
    "drop1 = Dropout(0.5)(pool1)\n",
    "\n",
    "conv2 = Conv1D(32, kernel_size=256, activation='relu')(input_layer)\n",
    "bn2 = BatchNormalization()(conv2)\n",
    "pool2 = GlobalMaxPooling1D()(bn2)\n",
    "drop2 = Dropout(0.5)(pool2)\n",
    "\n",
    "conv3 = Conv1D(16, kernel_size=256, activation='relu')(input_layer)\n",
    "bn3 = BatchNormalization()(conv3)\n",
    "pool3 = GlobalMaxPooling1D()(bn3)\n",
    "drop3 = Dropout(0.5)(pool3)\n",
    "\n",
    "# Concatenate\n",
    "concatenated = Concatenate()([drop1, drop2, drop3])\n",
    "\n",
    "# Fully Connected Layers\n",
    "dense1 = Dense(128, activation='relu')(concatenated)\n",
    "output_multiclass = Dense(7, activation='softmax', name='multiclass_output')(dense1)  # HSP types\n",
    "\n",
    "# Model\n",
    "model = Model(inputs=input_layer, outputs = [output_multiclass])\n",
    "\n",
    "# Compile the Model\n",
    "model.compile(optimizer='adam',\n",
    "              loss={'multiclass_output': 'categorical_crossentropy'},\n",
    "              metrics={'multiclass_output': 'accuracy'})\n",
    "\n",
    "# Train the Model\n",
    "history = model.fit(X_train, y_train,validation_data=(X_test, y_test),\n",
    "                    epochs=30, batch_size=32)\n",
    "\n",
    "\n"
   ]
  },
  {
   "cell_type": "code",
   "execution_count": 71,
   "id": "1b491e2a-235b-4c97-b1b6-72ece7e8b51e",
   "metadata": {},
   "outputs": [],
   "source": [
    "model.save('Mul_CNN_model.keras')"
   ]
  }
 ],
 "metadata": {
  "kernelspec": {
   "display_name": "Python 3 (ipykernel)",
   "language": "python",
   "name": "python3"
  },
  "language_info": {
   "codemirror_mode": {
    "name": "ipython",
    "version": 3
   },
   "file_extension": ".py",
   "mimetype": "text/x-python",
   "name": "python",
   "nbconvert_exporter": "python",
   "pygments_lexer": "ipython3",
   "version": "3.11.5"
  }
 },
 "nbformat": 4,
 "nbformat_minor": 5
}
